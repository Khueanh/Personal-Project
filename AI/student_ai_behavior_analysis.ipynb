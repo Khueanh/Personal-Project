{
 "cells": [
  {
   "cell_type": "markdown",
   "metadata": {},
   "source": [
    "# Student Behavior Toward AI Tools\n",
    "This report analyzes global student behavior around AI tool usage, perceived usefulness, and potential patterns based on demographic information."
   ]
  },
  {
   "cell_type": "code",
   "execution_count": null,
   "metadata": {},
   "outputs": [],
   "source": [
    "# 📦 Import libraries\n",
    "import pandas as pd\n",
    "import matplotlib.pyplot as plt\n",
    "import seaborn as sns\n",
    "sns.set(style='whitegrid')"
   ]
  },
  {
   "cell_type": "code",
   "execution_count": null,
   "metadata": {},
   "outputs": [],
   "source": [
    "# 📂 Load datasets\n",
    "students_use = pd.read_csv('global_ai_tools_students_use.csv')\n",
    "usefulness = pd.read_csv('ai_tool_usefulness_scores.csv')\n",
    "usage_breakdown = pd.read_csv('ai_tool_usage_breakdown.csv')\n",
    "usage_breakdown.rename(columns={usage_breakdown.columns[0]: 'AI_Tool'}, inplace=True)"
   ]
  },
  {
   "cell_type": "markdown",
   "metadata": {},
   "source": [
    "## 🧪 Basic Exploration"
   ]
  },
  {
   "cell_type": "code",
   "execution_count": null,
   "metadata": {},
   "outputs": [],
   "source": [
    "# Tool usage and usefulness columns\n",
    "usage_cols = [col for col in students_use.columns if col.startswith('uses_')]\n",
    "usefulness_cols = [col for col in students_use.columns if col.startswith('usefulness_')]\n",
    "\n",
    "# Average usage\n",
    "usage_percent = students_use[usage_cols].mean().sort_values(ascending=False) * 100\n",
    "usage_df = usage_percent.reset_index()\n",
    "usage_df.columns = ['AI_Tool', 'Usage_Percentage']\n",
    "usage_df['AI_Tool'] = usage_df['AI_Tool'].str.replace('uses_', '').str.replace('_', ' ').str.title()\n",
    "\n",
    "# Plot usage\n",
    "plt.figure(figsize=(10,6))\n",
    "sns.barplot(data=usage_df, x='Usage_Percentage', y='AI_Tool', palette='viridis')\n",
    "plt.title('AI Tool Usage Among Students')\n",
    "plt.xlabel('Percentage of Students Using')\n",
    "plt.ylabel('AI Tool')\n",
    "plt.tight_layout()\n",
    "plt.show()"
   ]
  },
  {
   "cell_type": "markdown",
   "metadata": {},
   "source": [
    "## 📊 Usage vs Usefulness"
   ]
  },
  {
   "cell_type": "code",
   "execution_count": null,
   "metadata": {},
   "outputs": [],
   "source": [
    "# Extract average usefulness scores\n",
    "usefulness_df = students_use[usefulness_cols].mean().reset_index()\n",
    "usefulness_df.columns = ['AI_Tool', 'Average_Usefulness']\n",
    "usefulness_df['AI_Tool'] = usefulness_df['AI_Tool'].str.replace('usefulness_', '').str.replace('_', ' ').str.title()\n",
    "\n",
    "# Merge with usage\n",
    "merged = pd.merge(usage_df, usefulness_df, on='AI_Tool')\n",
    "\n",
    "# Scatter plot\n",
    "plt.figure(figsize=(8,6))\n",
    "sns.scatterplot(data=merged, x='Usage_Percentage', y='Average_Usefulness', hue='AI_Tool', s=100)\n",
    "plt.title('Usage vs. Perceived Usefulness of AI Tools')\n",
    "plt.xlabel('Usage Percentage')\n",
    "plt.ylabel('Average Usefulness (1-5)')\n",
    "plt.legend(bbox_to_anchor=(1.05, 1), loc='upper left')\n",
    "plt.tight_layout()\n",
    "plt.show()"
   ]
  }
 ],
 "metadata": {
  "kernelspec": {
   "display_name": "Python 3",
   "language": "python",
   "name": "python3"
  },
  "language_info": {
   "name": "python",
   "version": "3.10"
  }
 },
 "nbformat": 4,
 "nbformat_minor": 2
}
